{
  "cells": [
    {
      "cell_type": "markdown",
      "id": "b5ab4c43-8626-4b8b-9859-4f8605cb4f98",
      "metadata": {
        "id": "b5ab4c43-8626-4b8b-9859-4f8605cb4f98"
      },
      "source": [
        "# Event analysis:Hypothesis testing"
      ]
    },
    {
      "cell_type": "code",
      "execution_count": null,
      "id": "7125e3e3-6cc0-4ab2-b98b-d66d3445d141",
      "metadata": {
        "id": "7125e3e3-6cc0-4ab2-b98b-d66d3445d141"
      },
      "outputs": [],
      "source": [
        "import pandas as pd\n",
        "import numpy as np\n",
        "import matplotlib.pyplot as plt\n",
        "import seaborn as sns\n",
        "from scipy import stats"
      ]
    },
    {
      "cell_type": "code",
      "execution_count": null,
      "id": "35b2c09e-c418-4095-9469-27723e5b7c98",
      "metadata": {
        "colab": {
          "base_uri": "https://localhost:8080/",
          "height": 342
        },
        "id": "35b2c09e-c418-4095-9469-27723e5b7c98",
        "outputId": "e6240b2a-b7a4-490d-9122-aa02c8d9db61"
      },
      "outputs": [
        {
          "output_type": "execute_result",
          "data": {
            "text/plain": [
              "   appearance_id  game_id_x  player_id_x competition_id_x  yellow_cards  \\\n",
              "0  2231426_49723    2231426        49723               L1             0   \n",
              "1  2231426_49723    2231426        49723               L1             0   \n",
              "2  2231426_49723    2231426        49723               L1             0   \n",
              "3  2231426_49723    2231426        49723               L1             0   \n",
              "4  2231426_49723    2231426        49723               L1             0   \n",
              "\n",
              "   red_cards  goals  assists  minutes_played  season  ... height_in_cm  \\\n",
              "0          0      0        0              70    2012  ...        186.0   \n",
              "1          0      0        0              70    2012  ...        186.0   \n",
              "2          0      0        0              70    2012  ...        186.0   \n",
              "3          0      0        0              70    2012  ...        186.0   \n",
              "4          0      0        0              70    2012  ...        186.0   \n",
              "\n",
              "   market_value_in_eur  highest_market_value_in_eur  \\\n",
              "0             700000.0                    5000000.0   \n",
              "1             700000.0                    5000000.0   \n",
              "2             700000.0                    5000000.0   \n",
              "3             700000.0                    5000000.0   \n",
              "4             700000.0                    5000000.0   \n",
              "\n",
              "        contract_expiration_date                   game_lineups_id  \\\n",
              "0  2025-06-30 00:00:00.000000000  8d717b1017e72d89d2ee1112bb2d7466   \n",
              "1  2025-06-30 00:00:00.000000000  d53eb3fd74523d6dd4536653c145ae96   \n",
              "2  2025-06-30 00:00:00.000000000  3efc21c645e46b2f411bcdb1710aa444   \n",
              "3  2025-06-30 00:00:00.000000000  cc79e78c570ce19872dfed125d324407   \n",
              "4  2025-06-30 00:00:00.000000000  21de58902f547e231bf2604be9fa996f   \n",
              "\n",
              "        type_y number     player_name_y  team_captain  position_y  \n",
              "0  substitutes     22  Timothy Chandler             0  Right-Back  \n",
              "1  substitutes     22  Timothy Chandler             0  Right-Back  \n",
              "2  substitutes     22  Timothy Chandler             0  Right-Back  \n",
              "3  substitutes     22  Timothy Chandler             0  Right-Back  \n",
              "4  substitutes     22  Timothy Chandler             0  Right-Back  \n",
              "\n",
              "[5 rows x 48 columns]"
            ],
            "text/html": [
              "\n",
              "  <div id=\"df-b5998659-bfeb-4e40-9fd7-e1a30be19e45\" class=\"colab-df-container\">\n",
              "    <div>\n",
              "<style scoped>\n",
              "    .dataframe tbody tr th:only-of-type {\n",
              "        vertical-align: middle;\n",
              "    }\n",
              "\n",
              "    .dataframe tbody tr th {\n",
              "        vertical-align: top;\n",
              "    }\n",
              "\n",
              "    .dataframe thead th {\n",
              "        text-align: right;\n",
              "    }\n",
              "</style>\n",
              "<table border=\"1\" class=\"dataframe\">\n",
              "  <thead>\n",
              "    <tr style=\"text-align: right;\">\n",
              "      <th></th>\n",
              "      <th>appearance_id</th>\n",
              "      <th>game_id_x</th>\n",
              "      <th>player_id_x</th>\n",
              "      <th>competition_id_x</th>\n",
              "      <th>yellow_cards</th>\n",
              "      <th>red_cards</th>\n",
              "      <th>goals</th>\n",
              "      <th>assists</th>\n",
              "      <th>minutes_played</th>\n",
              "      <th>season</th>\n",
              "      <th>...</th>\n",
              "      <th>height_in_cm</th>\n",
              "      <th>market_value_in_eur</th>\n",
              "      <th>highest_market_value_in_eur</th>\n",
              "      <th>contract_expiration_date</th>\n",
              "      <th>game_lineups_id</th>\n",
              "      <th>type_y</th>\n",
              "      <th>number</th>\n",
              "      <th>player_name_y</th>\n",
              "      <th>team_captain</th>\n",
              "      <th>position_y</th>\n",
              "    </tr>\n",
              "  </thead>\n",
              "  <tbody>\n",
              "    <tr>\n",
              "      <th>0</th>\n",
              "      <td>2231426_49723</td>\n",
              "      <td>2231426</td>\n",
              "      <td>49723</td>\n",
              "      <td>L1</td>\n",
              "      <td>0</td>\n",
              "      <td>0</td>\n",
              "      <td>0</td>\n",
              "      <td>0</td>\n",
              "      <td>70</td>\n",
              "      <td>2012</td>\n",
              "      <td>...</td>\n",
              "      <td>186.0</td>\n",
              "      <td>700000.0</td>\n",
              "      <td>5000000.0</td>\n",
              "      <td>2025-06-30 00:00:00.000000000</td>\n",
              "      <td>8d717b1017e72d89d2ee1112bb2d7466</td>\n",
              "      <td>substitutes</td>\n",
              "      <td>22</td>\n",
              "      <td>Timothy Chandler</td>\n",
              "      <td>0</td>\n",
              "      <td>Right-Back</td>\n",
              "    </tr>\n",
              "    <tr>\n",
              "      <th>1</th>\n",
              "      <td>2231426_49723</td>\n",
              "      <td>2231426</td>\n",
              "      <td>49723</td>\n",
              "      <td>L1</td>\n",
              "      <td>0</td>\n",
              "      <td>0</td>\n",
              "      <td>0</td>\n",
              "      <td>0</td>\n",
              "      <td>70</td>\n",
              "      <td>2012</td>\n",
              "      <td>...</td>\n",
              "      <td>186.0</td>\n",
              "      <td>700000.0</td>\n",
              "      <td>5000000.0</td>\n",
              "      <td>2025-06-30 00:00:00.000000000</td>\n",
              "      <td>d53eb3fd74523d6dd4536653c145ae96</td>\n",
              "      <td>substitutes</td>\n",
              "      <td>22</td>\n",
              "      <td>Timothy Chandler</td>\n",
              "      <td>0</td>\n",
              "      <td>Right-Back</td>\n",
              "    </tr>\n",
              "    <tr>\n",
              "      <th>2</th>\n",
              "      <td>2231426_49723</td>\n",
              "      <td>2231426</td>\n",
              "      <td>49723</td>\n",
              "      <td>L1</td>\n",
              "      <td>0</td>\n",
              "      <td>0</td>\n",
              "      <td>0</td>\n",
              "      <td>0</td>\n",
              "      <td>70</td>\n",
              "      <td>2012</td>\n",
              "      <td>...</td>\n",
              "      <td>186.0</td>\n",
              "      <td>700000.0</td>\n",
              "      <td>5000000.0</td>\n",
              "      <td>2025-06-30 00:00:00.000000000</td>\n",
              "      <td>3efc21c645e46b2f411bcdb1710aa444</td>\n",
              "      <td>substitutes</td>\n",
              "      <td>22</td>\n",
              "      <td>Timothy Chandler</td>\n",
              "      <td>0</td>\n",
              "      <td>Right-Back</td>\n",
              "    </tr>\n",
              "    <tr>\n",
              "      <th>3</th>\n",
              "      <td>2231426_49723</td>\n",
              "      <td>2231426</td>\n",
              "      <td>49723</td>\n",
              "      <td>L1</td>\n",
              "      <td>0</td>\n",
              "      <td>0</td>\n",
              "      <td>0</td>\n",
              "      <td>0</td>\n",
              "      <td>70</td>\n",
              "      <td>2012</td>\n",
              "      <td>...</td>\n",
              "      <td>186.0</td>\n",
              "      <td>700000.0</td>\n",
              "      <td>5000000.0</td>\n",
              "      <td>2025-06-30 00:00:00.000000000</td>\n",
              "      <td>cc79e78c570ce19872dfed125d324407</td>\n",
              "      <td>substitutes</td>\n",
              "      <td>22</td>\n",
              "      <td>Timothy Chandler</td>\n",
              "      <td>0</td>\n",
              "      <td>Right-Back</td>\n",
              "    </tr>\n",
              "    <tr>\n",
              "      <th>4</th>\n",
              "      <td>2231426_49723</td>\n",
              "      <td>2231426</td>\n",
              "      <td>49723</td>\n",
              "      <td>L1</td>\n",
              "      <td>0</td>\n",
              "      <td>0</td>\n",
              "      <td>0</td>\n",
              "      <td>0</td>\n",
              "      <td>70</td>\n",
              "      <td>2012</td>\n",
              "      <td>...</td>\n",
              "      <td>186.0</td>\n",
              "      <td>700000.0</td>\n",
              "      <td>5000000.0</td>\n",
              "      <td>2025-06-30 00:00:00.000000000</td>\n",
              "      <td>21de58902f547e231bf2604be9fa996f</td>\n",
              "      <td>substitutes</td>\n",
              "      <td>22</td>\n",
              "      <td>Timothy Chandler</td>\n",
              "      <td>0</td>\n",
              "      <td>Right-Back</td>\n",
              "    </tr>\n",
              "  </tbody>\n",
              "</table>\n",
              "<p>5 rows × 48 columns</p>\n",
              "</div>\n",
              "    <div class=\"colab-df-buttons\">\n",
              "\n",
              "  <div class=\"colab-df-container\">\n",
              "    <button class=\"colab-df-convert\" onclick=\"convertToInteractive('df-b5998659-bfeb-4e40-9fd7-e1a30be19e45')\"\n",
              "            title=\"Convert this dataframe to an interactive table.\"\n",
              "            style=\"display:none;\">\n",
              "\n",
              "  <svg xmlns=\"http://www.w3.org/2000/svg\" height=\"24px\" viewBox=\"0 -960 960 960\">\n",
              "    <path d=\"M120-120v-720h720v720H120Zm60-500h600v-160H180v160Zm220 220h160v-160H400v160Zm0 220h160v-160H400v160ZM180-400h160v-160H180v160Zm440 0h160v-160H620v160ZM180-180h160v-160H180v160Zm440 0h160v-160H620v160Z\"/>\n",
              "  </svg>\n",
              "    </button>\n",
              "\n",
              "  <style>\n",
              "    .colab-df-container {\n",
              "      display:flex;\n",
              "      gap: 12px;\n",
              "    }\n",
              "\n",
              "    .colab-df-convert {\n",
              "      background-color: #E8F0FE;\n",
              "      border: none;\n",
              "      border-radius: 50%;\n",
              "      cursor: pointer;\n",
              "      display: none;\n",
              "      fill: #1967D2;\n",
              "      height: 32px;\n",
              "      padding: 0 0 0 0;\n",
              "      width: 32px;\n",
              "    }\n",
              "\n",
              "    .colab-df-convert:hover {\n",
              "      background-color: #E2EBFA;\n",
              "      box-shadow: 0px 1px 2px rgba(60, 64, 67, 0.3), 0px 1px 3px 1px rgba(60, 64, 67, 0.15);\n",
              "      fill: #174EA6;\n",
              "    }\n",
              "\n",
              "    .colab-df-buttons div {\n",
              "      margin-bottom: 4px;\n",
              "    }\n",
              "\n",
              "    [theme=dark] .colab-df-convert {\n",
              "      background-color: #3B4455;\n",
              "      fill: #D2E3FC;\n",
              "    }\n",
              "\n",
              "    [theme=dark] .colab-df-convert:hover {\n",
              "      background-color: #434B5C;\n",
              "      box-shadow: 0px 1px 3px 1px rgba(0, 0, 0, 0.15);\n",
              "      filter: drop-shadow(0px 1px 2px rgba(0, 0, 0, 0.3));\n",
              "      fill: #FFFFFF;\n",
              "    }\n",
              "  </style>\n",
              "\n",
              "    <script>\n",
              "      const buttonEl =\n",
              "        document.querySelector('#df-b5998659-bfeb-4e40-9fd7-e1a30be19e45 button.colab-df-convert');\n",
              "      buttonEl.style.display =\n",
              "        google.colab.kernel.accessAllowed ? 'block' : 'none';\n",
              "\n",
              "      async function convertToInteractive(key) {\n",
              "        const element = document.querySelector('#df-b5998659-bfeb-4e40-9fd7-e1a30be19e45');\n",
              "        const dataTable =\n",
              "          await google.colab.kernel.invokeFunction('convertToInteractive',\n",
              "                                                    [key], {});\n",
              "        if (!dataTable) return;\n",
              "\n",
              "        const docLinkHtml = 'Like what you see? Visit the ' +\n",
              "          '<a target=\"_blank\" href=https://colab.research.google.com/notebooks/data_table.ipynb>data table notebook</a>'\n",
              "          + ' to learn more about interactive tables.';\n",
              "        element.innerHTML = '';\n",
              "        dataTable['output_type'] = 'display_data';\n",
              "        await google.colab.output.renderOutput(dataTable, element);\n",
              "        const docLink = document.createElement('div');\n",
              "        docLink.innerHTML = docLinkHtml;\n",
              "        element.appendChild(docLink);\n",
              "      }\n",
              "    </script>\n",
              "  </div>\n",
              "\n",
              "\n",
              "<div id=\"df-54b3a938-300c-4f32-96df-234a9b3197ae\">\n",
              "  <button class=\"colab-df-quickchart\" onclick=\"quickchart('df-54b3a938-300c-4f32-96df-234a9b3197ae')\"\n",
              "            title=\"Suggest charts\"\n",
              "            style=\"display:none;\">\n",
              "\n",
              "<svg xmlns=\"http://www.w3.org/2000/svg\" height=\"24px\"viewBox=\"0 0 24 24\"\n",
              "     width=\"24px\">\n",
              "    <g>\n",
              "        <path d=\"M19 3H5c-1.1 0-2 .9-2 2v14c0 1.1.9 2 2 2h14c1.1 0 2-.9 2-2V5c0-1.1-.9-2-2-2zM9 17H7v-7h2v7zm4 0h-2V7h2v10zm4 0h-2v-4h2v4z\"/>\n",
              "    </g>\n",
              "</svg>\n",
              "  </button>\n",
              "\n",
              "<style>\n",
              "  .colab-df-quickchart {\n",
              "      --bg-color: #E8F0FE;\n",
              "      --fill-color: #1967D2;\n",
              "      --hover-bg-color: #E2EBFA;\n",
              "      --hover-fill-color: #174EA6;\n",
              "      --disabled-fill-color: #AAA;\n",
              "      --disabled-bg-color: #DDD;\n",
              "  }\n",
              "\n",
              "  [theme=dark] .colab-df-quickchart {\n",
              "      --bg-color: #3B4455;\n",
              "      --fill-color: #D2E3FC;\n",
              "      --hover-bg-color: #434B5C;\n",
              "      --hover-fill-color: #FFFFFF;\n",
              "      --disabled-bg-color: #3B4455;\n",
              "      --disabled-fill-color: #666;\n",
              "  }\n",
              "\n",
              "  .colab-df-quickchart {\n",
              "    background-color: var(--bg-color);\n",
              "    border: none;\n",
              "    border-radius: 50%;\n",
              "    cursor: pointer;\n",
              "    display: none;\n",
              "    fill: var(--fill-color);\n",
              "    height: 32px;\n",
              "    padding: 0;\n",
              "    width: 32px;\n",
              "  }\n",
              "\n",
              "  .colab-df-quickchart:hover {\n",
              "    background-color: var(--hover-bg-color);\n",
              "    box-shadow: 0 1px 2px rgba(60, 64, 67, 0.3), 0 1px 3px 1px rgba(60, 64, 67, 0.15);\n",
              "    fill: var(--button-hover-fill-color);\n",
              "  }\n",
              "\n",
              "  .colab-df-quickchart-complete:disabled,\n",
              "  .colab-df-quickchart-complete:disabled:hover {\n",
              "    background-color: var(--disabled-bg-color);\n",
              "    fill: var(--disabled-fill-color);\n",
              "    box-shadow: none;\n",
              "  }\n",
              "\n",
              "  .colab-df-spinner {\n",
              "    border: 2px solid var(--fill-color);\n",
              "    border-color: transparent;\n",
              "    border-bottom-color: var(--fill-color);\n",
              "    animation:\n",
              "      spin 1s steps(1) infinite;\n",
              "  }\n",
              "\n",
              "  @keyframes spin {\n",
              "    0% {\n",
              "      border-color: transparent;\n",
              "      border-bottom-color: var(--fill-color);\n",
              "      border-left-color: var(--fill-color);\n",
              "    }\n",
              "    20% {\n",
              "      border-color: transparent;\n",
              "      border-left-color: var(--fill-color);\n",
              "      border-top-color: var(--fill-color);\n",
              "    }\n",
              "    30% {\n",
              "      border-color: transparent;\n",
              "      border-left-color: var(--fill-color);\n",
              "      border-top-color: var(--fill-color);\n",
              "      border-right-color: var(--fill-color);\n",
              "    }\n",
              "    40% {\n",
              "      border-color: transparent;\n",
              "      border-right-color: var(--fill-color);\n",
              "      border-top-color: var(--fill-color);\n",
              "    }\n",
              "    60% {\n",
              "      border-color: transparent;\n",
              "      border-right-color: var(--fill-color);\n",
              "    }\n",
              "    80% {\n",
              "      border-color: transparent;\n",
              "      border-right-color: var(--fill-color);\n",
              "      border-bottom-color: var(--fill-color);\n",
              "    }\n",
              "    90% {\n",
              "      border-color: transparent;\n",
              "      border-bottom-color: var(--fill-color);\n",
              "    }\n",
              "  }\n",
              "</style>\n",
              "\n",
              "  <script>\n",
              "    async function quickchart(key) {\n",
              "      const quickchartButtonEl =\n",
              "        document.querySelector('#' + key + ' button');\n",
              "      quickchartButtonEl.disabled = true;  // To prevent multiple clicks.\n",
              "      quickchartButtonEl.classList.add('colab-df-spinner');\n",
              "      try {\n",
              "        const charts = await google.colab.kernel.invokeFunction(\n",
              "            'suggestCharts', [key], {});\n",
              "      } catch (error) {\n",
              "        console.error('Error during call to suggestCharts:', error);\n",
              "      }\n",
              "      quickchartButtonEl.classList.remove('colab-df-spinner');\n",
              "      quickchartButtonEl.classList.add('colab-df-quickchart-complete');\n",
              "    }\n",
              "    (() => {\n",
              "      let quickchartButtonEl =\n",
              "        document.querySelector('#df-54b3a938-300c-4f32-96df-234a9b3197ae button');\n",
              "      quickchartButtonEl.style.display =\n",
              "        google.colab.kernel.accessAllowed ? 'block' : 'none';\n",
              "    })();\n",
              "  </script>\n",
              "</div>\n",
              "\n",
              "    </div>\n",
              "  </div>\n"
            ],
            "application/vnd.google.colaboratory.intrinsic+json": {
              "type": "dataframe",
              "variable_name": "df"
            }
          },
          "metadata": {},
          "execution_count": 2
        }
      ],
      "source": [
        "df=pd.read_csv(\"/content/Football_data_merged_cleaned_data (3).csv\")\n",
        "df.head()"
      ]
    },
    {
      "cell_type": "markdown",
      "id": "341d6f10-cb22-473b-af56-f5e06665e35b",
      "metadata": {
        "id": "341d6f10-cb22-473b-af56-f5e06665e35b"
      },
      "source": [
        "#### Is there a statistically significant difference in the average number of goals scored in matches with more than 10,000 attendees compared to those with 10,000 or fewer attendees? Assume that the goals scored are normally distributed and that the population variances are approximately equal. Use a 5% significance level to test this hypothesis."
      ]
    },
    {
      "cell_type": "markdown",
      "id": "17b1cf9e-409b-4f59-9536-290889253c44",
      "metadata": {
        "id": "17b1cf9e-409b-4f59-9536-290889253c44"
      },
      "source": [
        "#### Establish the null and alternate hypothesis"
      ]
    },
    {
      "cell_type": "markdown",
      "id": "1e209130-13bf-4771-9fad-edbea181ccc4",
      "metadata": {
        "id": "1e209130-13bf-4771-9fad-edbea181ccc4"
      },
      "source": [
        "H0:There is no significant difference in the average number of goals scored in matches with more than 10,000 attendees and those with 10,000 or fewer attende\n",
        "Ha:There is a significant difference in the average number of goals scored in matches with more than 10,000 attendees and those with 10,000 or fewer attendees."
      ]
    },
    {
      "cell_type": "markdown",
      "id": "c8944ad7-334f-4f16-be9f-11e337ad3abf",
      "metadata": {
        "id": "c8944ad7-334f-4f16-be9f-11e337ad3abf"
      },
      "source": [
        "#### Set the value of alpha (α)"
      ]
    },
    {
      "cell_type": "markdown",
      "id": "2754ed52-42fb-4dd6-b626-65ee86c8f4d3",
      "metadata": {
        "id": "2754ed52-42fb-4dd6-b626-65ee86c8f4d3"
      },
      "source": [
        "It is given that a 5% level of significance to be used to test hypothesis.\n",
        "\n",
        "alpha  = 0.05\n",
        "\n",
        "This test is a two-tailed test, each of the two rejection regions has an area of 0.025."
      ]
    },
    {
      "cell_type": "markdown",
      "id": "830681de-3245-44a0-8b03-ce3beaf62ec4",
      "metadata": {
        "id": "830681de-3245-44a0-8b03-ce3beaf62ec4"
      },
      "source": [
        "### Establish the decision rule"
      ]
    },
    {
      "cell_type": "markdown",
      "id": "2d0abd86-1198-4757-8a9a-53b7710a6e9b",
      "metadata": {
        "id": "2d0abd86-1198-4757-8a9a-53b7710a6e9b"
      },
      "source": [
        "i. If p_value < alpha : Rejection of Null Hypothesis (H0)\n",
        "\n",
        "ii. If -t-critical > t-statistic > +t-critical : Rejection of Null Hypothesis(H0)"
      ]
    },
    {
      "cell_type": "markdown",
      "id": "757cfd50-6063-4c1f-a9ce-de6b6f4a863e",
      "metadata": {
        "id": "757cfd50-6063-4c1f-a9ce-de6b6f4a863e"
      },
      "source": [
        "### Analyze the data"
      ]
    },
    {
      "cell_type": "markdown",
      "id": "0520bcbc-436f-49f8-9d09-286636d04225",
      "metadata": {
        "id": "0520bcbc-436f-49f8-9d09-286636d04225"
      },
      "source": [
        "#### Calculate sample statistic"
      ]
    },
    {
      "cell_type": "code",
      "execution_count": null,
      "id": "19c4eaea-1183-4f32-b01b-65c8226ba9f5",
      "metadata": {
        "colab": {
          "base_uri": "https://localhost:8080/"
        },
        "id": "19c4eaea-1183-4f32-b01b-65c8226ba9f5",
        "outputId": "3f02b84b-2152-4ff7-a173-93b2ead024d7"
      },
      "outputs": [
        {
          "output_type": "stream",
          "name": "stdout",
          "text": [
            "Sample mean of goals in high attendance matches = 1.759594037424675\n",
            "Sample mean of goals in low attendance matches = 1.619980879541109\n",
            "Sample variance of goals in high attendance matches = 2.3894598827495335\n",
            "Sample variance of goals in low attendance matches = 1.8923408891607754\n",
            "Sample size of high attendance matches = 6306\n",
            "Sample size of low attendance matches = 2092\n",
            "Degrees of freedom = 8396\n"
          ]
        }
      ],
      "source": [
        "import pandas as pd\n",
        "import statistics as st\n",
        "\n",
        "# Load your dataset\n",
        "# Ensure you specify the correct path to your CSV file\n",
        "\n",
        "# Define thresholds for attendance\n",
        "attendance_threshold = 10000\n",
        "\n",
        "# Filter data for high and low attendance matches\n",
        "high_attendance_goals = pd.concat([\n",
        "    df['home_club_goals'][df['attendance'] > attendance_threshold],\n",
        "    df['away_club_goals'][df['attendance'] > attendance_threshold]\n",
        "])\n",
        "\n",
        "low_attendance_goals = pd.concat([\n",
        "    df['home_club_goals'][df['attendance'] <= attendance_threshold],\n",
        "    df['away_club_goals'][df['attendance'] <= attendance_threshold]\n",
        "])\n",
        "\n",
        "# Convert to lists for calculations\n",
        "high_attendance_goals_list = high_attendance_goals.tolist()\n",
        "low_attendance_goals_list = low_attendance_goals.tolist()\n",
        "\n",
        "# Calculate means and standard deviations\n",
        "mean_high_attendance = st.mean(high_attendance_goals_list)\n",
        "mean_low_attendance = st.mean(low_attendance_goals_list)\n",
        "\n",
        "var_high_attendance = (st.stdev(high_attendance_goals_list)) ** 2\n",
        "var_low_attendance = (st.stdev(low_attendance_goals_list)) ** 2\n",
        "\n",
        "n_high = len(high_attendance_goals_list)\n",
        "n_low = len(low_attendance_goals_list)\n",
        "\n",
        "# Degrees of freedom\n",
        "df = n_high + n_low - 2\n",
        "\n",
        "# Print results\n",
        "print(\"Sample mean of goals in high attendance matches =\", mean_high_attendance)\n",
        "print(\"Sample mean of goals in low attendance matches =\", mean_low_attendance)\n",
        "print(\"Sample variance of goals in high attendance matches =\", var_high_attendance)\n",
        "print(\"Sample variance of goals in low attendance matches =\", var_low_attendance)\n",
        "print(\"Sample size of high attendance matches =\", n_high)\n",
        "print(\"Sample size of low attendance matches =\", n_low)\n",
        "print('Degrees of freedom =', df)\n"
      ]
    },
    {
      "cell_type": "markdown",
      "id": "1abbbc09-35cd-44e9-970e-bd41c5fa6bc4",
      "metadata": {
        "id": "1abbbc09-35cd-44e9-970e-bd41c5fa6bc4"
      },
      "source": [
        "#### Calculate t-statistic and t-critical"
      ]
    },
    {
      "cell_type": "code",
      "execution_count": null,
      "id": "8631e182-5898-4395-b1c4-fab616f49016",
      "metadata": {
        "colab": {
          "base_uri": "https://localhost:8080/"
        },
        "id": "8631e182-5898-4395-b1c4-fab616f49016",
        "outputId": "81578a06-07bf-4e06-f33a-b5f92c63c44f"
      },
      "outputs": [
        {
          "output_type": "stream",
          "name": "stdout",
          "text": [
            "t-statistic = 0.04012021471171984\n",
            "The p_value is  0.9679982396889519\n",
            "t-critical = 1.9602465723721618\n"
          ]
        }
      ],
      "source": [
        "import math\n",
        "from scipy.stats import t\n",
        "signal = abs(mean_high_attendance-mean_low_attendance)\n",
        "noise = math.sqrt(var_high_attendance*(n_high-1) + var_low_attendance*(n_low-1))*math.sqrt(1/n_high + 1/n_low)\n",
        "t_statistic=signal/noise\n",
        "print('t-statistic =',t_statistic)\n",
        "\n",
        "p_value=t.sf(abs(t_statistic),df)*2\n",
        "print(\"The p_value is \", p_value)\n",
        "\n",
        "t_critical = t.ppf(1-0.025, df)\n",
        "print('t-critical =',t_critical)"
      ]
    },
    {
      "cell_type": "markdown",
      "id": "77260bd8-98f4-45ae-a29e-91ecf394c073",
      "metadata": {
        "id": "77260bd8-98f4-45ae-a29e-91ecf394c073"
      },
      "source": [
        "### Reach a statistical conclusion"
      ]
    },
    {
      "cell_type": "markdown",
      "id": "79b11c73-db14-43a1-b58c-71a436e928fd",
      "metadata": {
        "id": "79b11c73-db14-43a1-b58c-71a436e928fd"
      },
      "source": [
        "As per, decision rule:\n",
        "\n",
        "i. p_value < alpha : Rejection of Null Hypothesis (H0)\n",
        "\n",
        "ii. If -t-critical > t-statistic > +t-critical : Rejection of Null Hypothesis(H0)\n",
        "\n",
        "In our study,\n",
        "\n",
        "p_value=0.96 > alpha=0.05, which leads to acceptance of Null Hypothesis\n",
        "\n",
        "t_statistic=0.04 < t-critical=1.96, which leads to acceptance of Null Hypothesis."
      ]
    },
    {
      "cell_type": "markdown",
      "id": "d99cf6e1-9055-487a-a357-0f3d1189f9ae",
      "metadata": {
        "id": "d99cf6e1-9055-487a-a357-0f3d1189f9ae"
      },
      "source": [
        "### Make the business decision"
      ]
    },
    {
      "cell_type": "markdown",
      "id": "fe85a0d3-275d-430e-8df3-f822fec7d7ee",
      "metadata": {
        "id": "fe85a0d3-275d-430e-8df3-f822fec7d7ee"
      },
      "source": [
        "There is no significant difference in the average number of goals scored in matches with more than 10,000 attendees and those with 10,000 or fewer attendees."
      ]
    },
    {
      "cell_type": "markdown",
      "id": "acef0bc9-795a-41a0-84a8-74b2862a8f65",
      "metadata": {
        "id": "acef0bc9-795a-41a0-84a8-74b2862a8f65"
      },
      "source": [
        "**Question 2:**Is there a statistically significant difference in the average number of assists made by players who played more than 90 minutes in a match compared to those who played 90 minutes or fewer? Assume that the assists are normally distributed and that the population variances are approximately equal. Use a 5% significance level to test this hypothesis."
      ]
    },
    {
      "cell_type": "markdown",
      "id": "266f5c13-ffee-45e0-a47c-8c1c1d152506",
      "metadata": {
        "id": "266f5c13-ffee-45e0-a47c-8c1c1d152506"
      },
      "source": [
        "H0: There is no significant difference in the average number of assists made by players who played more than 90 minutes and those who played 90 minutes or fewer.\n",
        "Ha: There is a significant difference in the average number of assists made by players who played more than 90 minutes and those who played 90 minutes or fewer."
      ]
    },
    {
      "cell_type": "code",
      "execution_count": null,
      "id": "0b7cdbbc-f08a-43b4-a928-7aaf34a69c16",
      "metadata": {
        "colab": {
          "base_uri": "https://localhost:8080/"
        },
        "id": "0b7cdbbc-f08a-43b4-a928-7aaf34a69c16",
        "outputId": "a3657a17-16f1-4744-f33a-7b9871854fa4"
      },
      "outputs": [
        {
          "output_type": "stream",
          "name": "stdout",
          "text": [
            "Sample mean of assists by players who played more than 90 minutes = 0.8235294117647058\n",
            "Sample mean of assists by players who played 90 minutes or fewer = 0.12292917166866747\n",
            "Sample variance of assists by players who played more than 90 minutes = 0.998217468805704\n",
            "Sample variance of assists by players who played 90 minutes or fewer = 0.11504809416562013\n",
            "Sample size of players who played more than 90 minutes = 34\n",
            "Sample size of players who played 90 minutes or fewer = 4165\n",
            "Degrees of freedom = 4197\n"
          ]
        }
      ],
      "source": [
        "import pandas as pd\n",
        "import statistics as st\n",
        "\n",
        "# Define thresholds for playing time\n",
        "playing_time_threshold = 90\n",
        "df=pd.read_csv(\"/content/Football_data_merged_cleaned_data (3).csv\")\n",
        "# Filter data for players who played more than 90 minutes and those who played 90 minutes or fewer\n",
        "high_playing_time_assists = df['assists'][df['minutes_played'] > playing_time_threshold]\n",
        "low_playing_time_assists = df['assists'][df['minutes_played'] <= playing_time_threshold]\n",
        "\n",
        "# Convert to lists for calculations\n",
        "high_playing_time_assists_list = high_playing_time_assists.tolist()\n",
        "low_playing_time_assists_list = low_playing_time_assists.tolist()\n",
        "\n",
        "# Calculate means and standard deviations\n",
        "mean_high_playing_time = st.mean(high_playing_time_assists_list)\n",
        "mean_low_playing_time = st.mean(low_playing_time_assists_list)\n",
        "\n",
        "var_high_playing_time = (st.stdev(high_playing_time_assists_list)) ** 2 if len(high_playing_time_assists_list) > 1 else 0\n",
        "var_low_playing_time = (st.stdev(low_playing_time_assists_list)) ** 2 if len(low_playing_time_assists_list) > 1 else 0\n",
        "\n",
        "n_high = len(high_playing_time_assists_list)\n",
        "n_low = len(low_playing_time_assists_list)\n",
        "\n",
        "# Degrees of freedom\n",
        "df = n_high + n_low - 2\n",
        "\n",
        "# Print results\n",
        "print(\"Sample mean of assists by players who played more than 90 minutes =\", mean_high_playing_time)\n",
        "print(\"Sample mean of assists by players who played 90 minutes or fewer =\", mean_low_playing_time)\n",
        "print(\"Sample variance of assists by players who played more than 90 minutes =\", var_high_playing_time)\n",
        "print(\"Sample variance of assists by players who played 90 minutes or fewer =\", var_low_playing_time)\n",
        "print(\"Sample size of players who played more than 90 minutes =\", n_high)\n",
        "print(\"Sample size of players who played 90 minutes or fewer =\", n_low)\n",
        "print('Degrees of freedom =', df)\n"
      ]
    },
    {
      "cell_type": "markdown",
      "id": "76b3e9f5-76d4-4e46-928b-49a9bde714e6",
      "metadata": {
        "id": "76b3e9f5-76d4-4e46-928b-49a9bde714e6"
      },
      "source": [
        "#### Calculate t-statistic and t-critical"
      ]
    },
    {
      "cell_type": "code",
      "execution_count": null,
      "id": "1401a175-6d51-468f-8754-22a218c03e9a",
      "metadata": {
        "colab": {
          "base_uri": "https://localhost:8080/"
        },
        "id": "1401a175-6d51-468f-8754-22a218c03e9a",
        "outputId": "23491113-f83c-4841-842e-0eedf175b774"
      },
      "outputs": [
        {
          "output_type": "stream",
          "name": "stdout",
          "text": [
            "t-statistic = 0.009088310097707252\n",
            "The p_value is  0.9927491094585391\n",
            "t-critical = 1.9605293750283208\n"
          ]
        }
      ],
      "source": [
        "import math\n",
        "from scipy.stats import t\n",
        "signal = abs(mean_high_attendance-mean_low_attendance)\n",
        "noise = math.sqrt(var_high_attendance*(n_high-1) + var_low_attendance*(n_low-1))*math.sqrt(1/n_high + 1/n_low)\n",
        "t_statistic=signal/noise\n",
        "print('t-statistic =',t_statistic)\n",
        "\n",
        "p_value=t.sf(abs(t_statistic),df)*2\n",
        "print(\"The p_value is \", p_value)\n",
        "\n",
        "t_critical = t.ppf(1-0.025, df)\n",
        "print('t-critical =',t_critical)"
      ]
    },
    {
      "cell_type": "markdown",
      "id": "f8d21934-6fee-4b6f-8a1a-29e4f765f760",
      "metadata": {
        "id": "f8d21934-6fee-4b6f-8a1a-29e4f765f760"
      },
      "source": [
        "### Reach a statistical conclusion"
      ]
    },
    {
      "cell_type": "markdown",
      "id": "94e77281-9a9a-466f-bbc5-c68f25690ca9",
      "metadata": {
        "id": "94e77281-9a9a-466f-bbc5-c68f25690ca9"
      },
      "source": [
        "As per, decision rule:\n",
        "i. p_value < alpha : Rejection of Null Hypothesis (H0)\n",
        "ii. If -t-critical > t-statistic > +t-critical : Rejection of Null Hypothesis(H0)\n",
        "In our study,\n",
        "p_value=0.99 > alpha=0.05, which leads to acceptance of Null Hypothesis\n",
        "t_statistic=0.00 < t-critical=1.96, which leads to acceptance of Null Hypothesis."
      ]
    },
    {
      "cell_type": "markdown",
      "id": "3f58bad3-1a6e-4ed9-a21f-4e3519286b4e",
      "metadata": {
        "id": "3f58bad3-1a6e-4ed9-a21f-4e3519286b4e"
      },
      "source": [
        "### Make the business decision"
      ]
    },
    {
      "cell_type": "markdown",
      "id": "999bd253-5b6c-4295-be0b-148935b9affc",
      "metadata": {
        "id": "999bd253-5b6c-4295-be0b-148935b9affc"
      },
      "source": [
        "#### There is no significant difference in the average number of assists made by players who played more than 90 minutes and those who played 90 minutes or fewer."
      ]
    },
    {
      "cell_type": "code",
      "execution_count": null,
      "id": "cb24649b-ae6a-49e9-8683-e6e6ce6ce918",
      "metadata": {
        "id": "cb24649b-ae6a-49e9-8683-e6e6ce6ce918"
      },
      "outputs": [],
      "source": []
    }
  ],
  "metadata": {
    "kernelspec": {
      "display_name": "Python 3 (ipykernel)",
      "language": "python",
      "name": "python3"
    },
    "language_info": {
      "codemirror_mode": {
        "name": "ipython",
        "version": 3
      },
      "file_extension": ".py",
      "mimetype": "text/x-python",
      "name": "python",
      "nbconvert_exporter": "python",
      "pygments_lexer": "ipython3",
      "version": "3.12.4"
    },
    "colab": {
      "provenance": []
    }
  },
  "nbformat": 4,
  "nbformat_minor": 5
}