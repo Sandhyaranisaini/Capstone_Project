{
  "nbformat": 4,
  "nbformat_minor": 0,
  "metadata": {
    "colab": {
      "provenance": []
    },
    "kernelspec": {
      "name": "python3",
      "display_name": "Python 3"
    },
    "language_info": {
      "name": "python"
    }
  },
  "cells": [
    {
      "cell_type": "markdown",
      "source": [
        "# ***Performance Analysis***"
      ],
      "metadata": {
        "id": "oOLWeXqtMBTn"
      }
    },
    {
      "cell_type": "markdown",
      "source": [
        "**Objective 1:**  Evaluate and analyze player performance based on metrics such as goals,assists,minutes played\n",
        "\n",
        "**Objective 2:** Evaluating the Impact of Player's Position on Their Performance\n",
        "\n",
        "**Question 1:**Which are the top 10 players based on goals scored?\n",
        "\n",
        "**Question 2:**Which are the top 10 players based on assists?\n",
        "\n",
        "**Question 3**  What is the distribution of goals scored by players across\n",
        "different positions?\n",
        "\n",
        "**Question4**:What is the average number of goals scored by players in different positions?\n",
        "\n",
        "**Question 5**:How does a player's performance vary with different levels of playing time?(Impact of Playing Time on Performance)\n",
        "\n"
      ],
      "metadata": {
        "id": "FZDiwcnNYwJB"
      }
    },
    {
      "cell_type": "markdown",
      "source": [
        "# ***Player Profile and Market Value***"
      ],
      "metadata": {
        "id": "CQWmwO8uZRxq"
      }
    },
    {
      "cell_type": "markdown",
      "source": [
        "**Objective 1:**Analyze player profiles to determine market value trends.\n",
        "\n",
        "**Objective2:** Identify potential recruits based on data-driven insights.\n",
        "\n",
        "**Question 1:** what is the realationship between maarket value and player's height?\n",
        "\n",
        "**Question 2:**How do player performance metrics (goals, assists, minutes played) affect their market value?\n",
        "\n",
        "\n",
        "**Question 3:** Which players' have heighest market values?\n",
        "\n",
        "**Question 4:**When is the most opportune time to invest in players, given the fluctuating market values?\n",
        "\n",
        "**Question5:**What is the Average of Market Value In Eur for each Country Of Birth?\n",
        "\n",
        "**Question 6:**Top 10 Stadiums based on Market Value"
      ],
      "metadata": {
        "id": "XbgfC35pZZfL"
      }
    },
    {
      "cell_type": "markdown",
      "source": [
        "# ***Team Comparison***"
      ],
      "metadata": {
        "id": "2Cfm2kBVZZb6"
      }
    },
    {
      "cell_type": "markdown",
      "source": [
        "**Objective 1:** Understand the relationship between player performance (goals, assists) and their market value.\n",
        "\n",
        "**Objective 2:** Investigate how player profile features (age, height, position) influence their market value.\n",
        "\n",
        "**Question 1:** What is the difference in goals scored by home and away teams across all matches in a given season?\n",
        "\n",
        "**Question2:**Is there a correlation between the number of goals scored and the total attendance in home games across seasons?\n",
        "\n",
        "**Question3:**What is the distribution of goals scored by different teams? and identify patterns,outliers.\n",
        "\n",
        "**Question4:**Managers with highest win rates\n",
        "\n",
        "**Question 5:**Is there a statistically significant difference in the average home club_goals and away club goals scored? Assuming that the goals are normally distributed and that the population variances are approximately equal. Using a 5% significance level to test this hypothesis.\n",
        "\n",
        "**Question6:**Is there a statistically significant difference in the average number of yellow cards received by home teams compared to away teams? Assume that the yellow cards are normally distributed and that the population variances are approximately equal. Use a 5% significance level to test this hypothesis.\n"
      ],
      "metadata": {
        "id": "RPtmGu7VZZY9"
      }
    },
    {
      "cell_type": "markdown",
      "source": [
        "# ***Attendance and Stadium Analysis***"
      ],
      "metadata": {
        "id": "7vbA3cmzZZV0"
      }
    },
    {
      "cell_type": "markdown",
      "source": [
        "**Objective1**: Analyze factors influencing match attendance.\n",
        "\n",
        "**Objective2:** Optimize stadium operations based on attendance data.\n",
        "\n",
        "**Question 1:**What is the distribution of attendance across all matches?\n",
        "\n",
        "**Question2:**Which stadium has the highest average attendance?\n",
        "\n",
        "**Question 3:**Is there any correlation between the attendance and match outcome (home team goals vs. away team goals)?\n",
        "\n",
        "**Question 4:**How does the attendance vary by competition?\n",
        "\n",
        "**Question 5:**Can we predict if a match will have a \"high\" or \"low\" attendance based on player performance, team statistics, and other factors?"
      ],
      "metadata": {
        "id": "dxTwxHbEZZS9"
      }
    },
    {
      "cell_type": "markdown",
      "source": [
        "# ***Referee Analysis***"
      ],
      "metadata": {
        "id": "tyqvm4UTarpO"
      }
    },
    {
      "cell_type": "markdown",
      "source": [
        "**Objective1:** Evaluate referee performance consistency across matches.\n",
        "\n",
        "**Objective2:** Study the impact of referee decisions on game dynamics.\n",
        "\n",
        "\n",
        "**Question 1:** Study the impact of referee decisions on game dynamics.\n",
        "\n",
        "\n",
        "**Question 2:** What is the total number of yellow and red cards given by each referee?\n",
        "\n",
        "**Question 3:** What is the distribution of referee performance across different leagues?\n",
        "\n",
        "**Question 4:** How do different types of fouls called by referees affect the flow of the game?"
      ],
      "metadata": {
        "id": "X53wHv_carl4"
      }
    },
    {
      "cell_type": "markdown",
      "source": [
        "# ***Substitution Patterns***"
      ],
      "metadata": {
        "id": "DThgzoZvarim"
      }
    },
    {
      "cell_type": "markdown",
      "source": [
        "**Objective1:** Analyze the effectiveness of substitution strategies.\n",
        "\n",
        "**Objective2:** Optimize substitution decisions based on data analysis.\n",
        "\n",
        "**Question 1:** How do substitution patterns vary across different teams or managers?\n",
        "\n",
        "**Question2:** Area chart for Substitution Timing:\n",
        "\n",
        "**Question 3:**Substitution Pattern vs. Match Outcome\n",
        "\n",
        "**Question 4:** Do teams tend to make more substitutions when they are losing or winning?"
      ],
      "metadata": {
        "id": "0ozn7zG3argC"
      }
    },
    {
      "cell_type": "markdown",
      "source": [
        "# ***Event Analysis***"
      ],
      "metadata": {
        "id": "-pUhUuCmardI"
      }
    },
    {
      "cell_type": "markdown",
      "source": [
        "**Objective1:** Assess critical events that influence match results.\n",
        "\n",
        "**Objective2:** Identify patterns in event occurrences throughout matches.\n",
        "\n",
        "\n",
        "**Question 1:**Is there a correlation between the number of match events (goals, assists, cards) and the attendance at the game?\n",
        "\n",
        "\n",
        "**Question 2:** Which players contribute the most to their team in terms of goals, assists, and cards?\n",
        "\n",
        "**Question 3:**How do the number of fouls or penalties vary by the outcome of the match (win, loss, draw)?\n",
        "\n",
        "**Question4: **Does the number of goals differ significantly between home and away teams?\n",
        "\n",
        "**Question5:**Are there significantly more yellow cards in matches that are drawn (tied) compared to other outcomes?"
      ],
      "metadata": {
        "id": "-Ji0dkHsbiXZ"
      }
    },
    {
      "cell_type": "markdown",
      "source": [
        "# ***Competition Analysis***"
      ],
      "metadata": {
        "id": "_hzIUC6JbiUC"
      }
    },
    {
      "cell_type": "markdown",
      "source": [
        "**Objective1:** Evaluate league performance trends over time.\n",
        "\n",
        "\n",
        "**Objective2:** Assess external factors influencing competition outcomes.\n",
        "\n",
        "**Question 1:**What is the distribution of goals scored across different competitions?\n",
        "\n",
        "\n",
        "**Question 2:** Which players have the highest market value in each competition?\n",
        "\n",
        "**Question 3:**How does player performance (goals/assists) correlate with their market value based on competition_id?\n",
        "\n",
        "**Question4:**which Stadium have highest attendance based on competition id?"
      ],
      "metadata": {
        "id": "Z8fttl3AbiRJ"
      }
    },
    {
      "cell_type": "markdown",
      "source": [
        "# ***Player Attributes and Demographics***"
      ],
      "metadata": {
        "id": "iMM-cA6JbiOL"
      }
    },
    {
      "cell_type": "markdown",
      "source": [
        "**Objective1:** Profile players based on demographic data.\n",
        "\n",
        "**Objective2**: Analyze how attributes affect player development trajectories.\n",
        "\n",
        "**Question 1:**  How can we segment players based on their overall performance, such as goal-scoring ability, discipline (yellow cards), and involvement (minutes played)?\n",
        "\n",
        "\n",
        "**Question 2:**What is the distribution of players' market value across different positions?\n",
        "\n",
        "**Question 3:** What is the distribution of players' ages across different teams?\n",
        "\n",
        "**Question 4:**How does the height of players vary by position?"
      ],
      "metadata": {
        "id": "yFtT4nGcbiLR"
      }
    },
    {
      "cell_type": "markdown",
      "source": [
        "# ***Contract Management***"
      ],
      "metadata": {
        "id": "jd1xkImnbiIV"
      }
    },
    {
      "cell_type": "markdown",
      "source": [
        "**Objective1:** Optimize contract negotiations using performance data.\n",
        "\n",
        "\n",
        "**Objective2:** Monitor compliance with contractual obligations.\n",
        "\n",
        "**Question 1:** What is the relationship between player age and contract value?\n",
        "\n",
        "\n",
        "**Question 2:**What is the distribution of player contract values across teams?\n",
        "\n",
        "**Question 3:** 1. Which players have the longest and shortest contract durations?"
      ],
      "metadata": {
        "id": "m5xS2DbLbiFa"
      }
    }
  ]
}